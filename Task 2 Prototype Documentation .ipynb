{
 "cells": [
  {
   "cell_type": "markdown",
   "id": "860f1db0",
   "metadata": {},
   "source": [
    "# SDG Mapping Protype\n",
    "\n",
    "### BIOCLIMATIC AND ECOLOGICAL ZONES: KENYA\n",
    "\n",
    "This document discusses two prototypes applied to two data sets on Bioclimatic and Ecological zones for mapping Sustainable \n",
    "Development Goals (SDGs). It will highlight the attributes used in mapping, the SDGs mapped and how they relate. \n"
   ]
  },
  {
   "cell_type": "markdown",
   "id": "68fd24bf",
   "metadata": {},
   "source": [
    "### Ecological Zones \n",
    "\n",
    "##### Dataset Attribute – gez-name\n",
    "This column represents different ecological zones including Tropical dry forest, tropical moist forest, tropical mountain system, tropical rainforest, Tropical shrubland and water. \n",
    "##### SDGs Mapped\n",
    "SDG 6- Clean Water and Sanitization: One of the ecological zones found in Kenya is Water or waterbodies. From the map, one of the visible water bodies is Lake Turkana. These water bodies provide clean water that is essential for human, life and animal life. \n",
    "SDG 13- Climate action: Presence of forested areas is critical in mitigating carbon in the atmosphere. Forests act as carbon sinks because it absorbs more carbon from the atmosphere than it releases. Water also acts as carbon sink thus promoting climate action. \n",
    "SDG 14- Life Under Water: Water bodies house life. They are ecological zones for plants and Animals. They therefore support marine life which can also provide food for humans. \n",
    "SDG 15- Life on Land: Ecological zones such as Tropical dry forest, tropical moist forest, tropical mountain system, tropical rainforest, Tropical shrubland are homes for any terrestrial life. Efforts directed towards protecting these areas promotes biodiversity. \n"
   ]
  },
  {
   "cell_type": "markdown",
   "id": "096d2104",
   "metadata": {},
   "source": [
    "### Agroecological Zones\n",
    "\n",
    "##### Dataset Attribute- value\n",
    "This attribute represents different agroecological zones. They include Warm Temperate Moist, Warm Temperate Dry, Cool Temperate Moist, Cool Temperate Dry, Polar Moist, Polar Dry, Boreal Moist, Boreal Dry, Tropical Montane, Tropical Wet, Tropical Moist and Tropical Dry. \n",
    "##### SDGs Mapped\n",
    "SDG 2-Zero Hunger: Agroecological zones provide lie to different plants and crops. They ensure efforts towards sufficient, safe and nutritious food for all and reduce malnutrition levels. Achieving zero hunger is only possible if these zones are protected. \n",
    "SDG 12- Responsible Consumption and Production: Agroecological zones provides an avenue for agricultural decision and policies. Attaining sufficiency in food supply to support a growing population without compromising the ecosystem functioning is critical. Being aware of different agroecological zones and what crops they can support is key in ensuring the right agricultural approaches are used in food production thus supporting SDG 12.\n",
    "SDG 13- Climate Action: Agricultural practices have a direct impact on climate. Agroecological practices like agroforestry provide buffers against droughts. They also prevent soil erosion and provide shelter to crops thus preventing heat waves. These zones can play these roles at different levels contributing to climate action efforts. \n",
    "SDG 15- Life on Land: Agroecological zones play a critical role in protecting biodiversity and conserving ecosystems. These ecosystems support life to human beings by providing sufficient oxygen, food, and energy."
   ]
  },
  {
   "cell_type": "markdown",
   "id": "87003cee",
   "metadata": {},
   "source": [
    "### References \n",
    "Akanmu, A. O., Akol, A. M., Ndolo, D. O., Kutu, F. R., & Babalola, O. O. (2023). Agroecological techniques: Adoption of safe and sustainable agricultural practices among the smallholder farmers in Africa. Frontiers in Sustainable Food Systems, 7, 1143061.\n",
    "Weingärtner, L., Baum, D., Islam, J., Mishra, K., Nieskens, L., Bader, N., ... & Katsir, S. (2023). Advancing the Transformation of Agroecological Food Systems to Achieve Zero Hunger.\n",
    "Balasubramanian, A. (2011/12/09)- CLASSIFYING THE BIOCLIMATIC ZONES. 10.13140/RG.2.2.32430.10562\n",
    "SDGs Goals- https://sdgs.un.org/goals"
   ]
  }
 ],
 "metadata": {
  "kernelspec": {
   "display_name": "Python 3 (ipykernel)",
   "language": "python",
   "name": "python3"
  },
  "language_info": {
   "codemirror_mode": {
    "name": "ipython",
    "version": 3
   },
   "file_extension": ".py",
   "mimetype": "text/x-python",
   "name": "python",
   "nbconvert_exporter": "python",
   "pygments_lexer": "ipython3",
   "version": "3.9.13"
  }
 },
 "nbformat": 4,
 "nbformat_minor": 5
}
